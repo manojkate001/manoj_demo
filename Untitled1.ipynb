{
  "nbformat": 4,
  "nbformat_minor": 0,
  "metadata": {
    "colab": {
      "provenance": [],
      "authorship_tag": "ABX9TyOQmVuV414AFXJ3LyAwcuoi",
      "include_colab_link": true
    },
    "kernelspec": {
      "name": "python3",
      "display_name": "Python 3"
    },
    "language_info": {
      "name": "python"
    }
  },
  "cells": [
    {
      "cell_type": "markdown",
      "metadata": {
        "id": "view-in-github",
        "colab_type": "text"
      },
      "source": [
        "<a href=\"https://colab.research.google.com/github/manojkate001/manoj_demo/blob/main/Untitled1.ipynb\" target=\"_parent\"><img src=\"https://colab.research.google.com/assets/colab-badge.svg\" alt=\"Open In Colab\"/></a>"
      ]
    },
    {
      "cell_type": "code",
      "execution_count": 1,
      "metadata": {
        "colab": {
          "base_uri": "https://localhost:8080/"
        },
        "id": "ljbd7eMMx5xj",
        "outputId": "15c9acff-b42d-4a7f-d2f0-afe220aea0d7"
      },
      "outputs": [
        {
          "output_type": "stream",
          "name": "stdout",
          "text": [
            "mk\n"
          ]
        }
      ],
      "source": [
        "# single line comment\n",
        "print('mk')"
      ]
    },
    {
      "cell_type": "code",
      "source": [
        "\"\"\" multi\n",
        "    lined\n",
        "    comment\n",
        "    \"\"\"\n",
        "print('mk')"
      ],
      "metadata": {
        "colab": {
          "base_uri": "https://localhost:8080/"
        },
        "id": "tclphUZ-yFE_",
        "outputId": "63ab521f-6868-4296-bfc0-268bab10a21f"
      },
      "execution_count": 3,
      "outputs": [
        {
          "output_type": "stream",
          "name": "stdout",
          "text": [
            "mk\n"
          ]
        }
      ]
    },
    {
      "cell_type": "code",
      "source": [
        "a = 5\n",
        "b = 10\n",
        "sum = a + b\n",
        "print(sum)"
      ],
      "metadata": {
        "colab": {
          "base_uri": "https://localhost:8080/"
        },
        "id": "fiYzevoOyKus",
        "outputId": "6e5273df-9e76-4ad7-f0aa-038a7598e8c5"
      },
      "execution_count": 5,
      "outputs": [
        {
          "output_type": "stream",
          "name": "stdout",
          "text": [
            "15\n"
          ]
        }
      ]
    },
    {
      "cell_type": "code",
      "source": [
        "x = 2\n",
        "y = 2.0\n",
        "m = 2 + 5j\n",
        "str = \"Manoj\"\n",
        "no = [1,2,3,4,5]\n",
        "print(type(x))\n",
        "print(type(y))\n",
        "print(type(m))\n",
        "print(type(str))\n",
        "print(type(no))\n",
        "school = ('class','lab',12,34.40)\n",
        "print(type(school))"
      ],
      "metadata": {
        "colab": {
          "base_uri": "https://localhost:8080/"
        },
        "id": "CeEd9nOKzPKQ",
        "outputId": "fbbaf25d-01bc-48ef-d54f-b5e33666c03a"
      },
      "execution_count": 6,
      "outputs": [
        {
          "output_type": "stream",
          "name": "stdout",
          "text": [
            "<class 'int'>\n",
            "<class 'float'>\n",
            "<class 'complex'>\n",
            "<class 'str'>\n",
            "<class 'list'>\n",
            "<class 'tuple'>\n"
          ]
        }
      ]
    },
    {
      "cell_type": "code",
      "source": [
        "a = 5\n",
        "b = 6\n",
        "print(a%b)\n",
        "a = 5   #floar division\n",
        "b = 3\n",
        "result = a // b\n",
        "print(result)\n",
        "a = 5   # explonentiation\n",
        "b = 3\n",
        "result = a ** b\n",
        "print(result)\n",
        "\n",
        "x = 10\n",
        "y = 20\n",
        "\n",
        "print(x == y)\n",
        "print(x != y)\n",
        "print(x > y)\n",
        "print(x < y)\n",
        "print(x >= y)   # True\n",
        "\n"
      ],
      "metadata": {
        "colab": {
          "base_uri": "https://localhost:8080/"
        },
        "id": "z5K0yf3lzpRl",
        "outputId": "6706cc5b-c39d-4e83-c79d-1562b9c34ade"
      },
      "execution_count": 7,
      "outputs": [
        {
          "output_type": "stream",
          "name": "stdout",
          "text": [
            "5\n",
            "1\n",
            "125\n",
            "False\n",
            "True\n",
            "False\n",
            "True\n",
            "False\n"
          ]
        }
      ]
    }
  ]
}